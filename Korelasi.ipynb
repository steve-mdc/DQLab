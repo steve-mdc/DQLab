{
  "nbformat": 4,
  "nbformat_minor": 0,
  "metadata": {
    "colab": {
      "provenance": []
    },
    "kernelspec": {
      "name": "python3",
      "display_name": "Python 3"
    },
    "language_info": {
      "name": "python"
    }
  },
  "cells": [
    {
      "cell_type": "markdown",
      "source": [
        "# **Korelasi**\n",
        "\n",
        "Korelasi adalah ukuran statistik yang mengungkapkan sejauh mana dua variabel terkait secara linier artinya mereka berubah bersama pada tingkat yang konstan baik searah maupun berlawanan arah. Korelasi digunakan untuk mendeskripsikan hubungan sederhana tanpa membuat pernyataan tentang sebab dan akibat."
      ],
      "metadata": {
        "id": "6nyd1ZKQdn7p"
      }
    },
    {
      "cell_type": "markdown",
      "source": [
        "## **Nilai Korelasi**\n",
        "\n",
        "Koefisien korelasi (biasa disimbolkan dengan *r*) dapat bernilai positif ( + ) jika hubungan dua variabel searah / berbanding lurus (semakin meningkat variabel A maka nilai variabel B juga meningkat pun sebaliknya) atau negatif ( - ) jika hubungan dua variabel berbeda arah (semakin meningkat variabel A maka nilai variabel B akan menurun begitu juga sebaliknya) dan berada pada rentang -1 s.d. 1 mendekati -1 atau 1 maka hubungan keeratan dua variabel semakin kuat. Jika nilainya mendekati 0, maka hubungan keeratan dua variabel semakin lemah.\n",
        "\n",
        "Berikut ini adalah interpretasi besarnya nilai koefisien korelasi.\n",
        "\n",
        "*   0.0 <= |*r*| <= 0.2 menyatakan hubungan keeratan sangat lemah\n",
        "*   0.2 < |*r*| <= 0.4 menyatakan hubungan keeratan lemah\n",
        "*   0.4 < |*r*| <= 0.7 menyatakan hubungan keeratan cukup kuat\n",
        "*   0.7 < |*r*| <= 0.9 menyatakan hubungan keeratan kuat\n",
        "*   0.9 < |*r*| <= 1.0 menyatakan hubungan keeratan sangat kuat."
      ],
      "metadata": {
        "id": "jEFhcJw4dqBf"
      }
    },
    {
      "cell_type": "markdown",
      "source": [
        "## **Pearson Correlation**\n",
        "\n",
        "Korelasi Pearson adalah alat analisis statistik parametrik yang digunakan untuk melihat keeratan hubungan linier antara 2 variabel yang skala datanya adalah interval atau rasio.\n",
        "<br></br>\n",
        "<b>Rumus Korelasi Pearson</b>\n",
        "  \\begin{equation}\n",
        "  r=\\frac{\\sum_{i=1}^{n}(x_{i} - \\bar{x})\\cdot(y_{i} - \\bar{y})}{\\sqrt{\\sum_{i=1}^{n}(x_{i} - \\bar{x})^2\\cdot\\sum_{i=1}^{n}(y_{i} - \\bar{y})^2}} \\\\\n",
        "  \\end{equation}\n",
        "\n",
        "Dengan :  \n",
        "<li>𝑥 = Variabel pertama </li>\n",
        "<li>𝑥̄ = Rata-rata variabel pertama </li>\n",
        "<li>𝑦 = Variabel Kedua</li>\n",
        "<li>𝑦̄ = Rata-rata variabel kedua </li>\n",
        "</ol>"
      ],
      "metadata": {
        "id": "vwTvRlxydt59"
      }
    },
    {
      "cell_type": "markdown",
      "source": [
        "## **CONTOH**\n",
        "Korelasi antara email marketing dan tingkat konversi adalah salah satu aspek yang sangat penting dalam digital marketing. Email marketing digunakan untuk mengirimkan pesan kepada pelanggan atau prospek dengan tujuan mempengaruhi tindakan mereka, seperti melakukan pembelian, mendaftar, atau mengunduh konten. Sementara itu, tingkat konversi mengukur seberapa efektif suatu kampanye dalam mendorong pengunjung untuk melakukan tindakan yang diinginkan, seperti pembelian atau pendaftaran.\n",
        "\n",
        "Hitung berapa korelasi antara data open_rate dan conversion_rate dibawah ini serta tentukan jenis korelasinya!"
      ],
      "metadata": {
        "id": "OthiX1tweYkZ"
      }
    },
    {
      "cell_type": "code",
      "execution_count": 18,
      "metadata": {
        "id": "-hTSHn1_dk9p"
      },
      "outputs": [],
      "source": [
        "# # Data kampanye email\n",
        "# open_rate = [0.25, 0.3, 0.35, 0.4, 0.45, 0.5, 0.55, 0.6, 0.65, 0.7, 0.75, 0.8, 0.85, 0.9, 0.95]\n",
        "# conversion_rate = [0.02, 0.03, 0.04, 0.05, 0.06, 0.07, 0.08, 0.09, 0.1, 0.11, 0.12, 0.13, 0.14, 0.15, 0.16]"
      ]
    },
    {
      "cell_type": "code",
      "source": [
        "open_rate = [0.34, 0.57, 0.61, 0.68, 0.41, 0.83, 0.91, 0.26, 0.65, 0.49, 0.74, 0.75, 0.52, 0.85, 0.59] #iklan melalui email\n",
        "conversion_rate = [0.12, 0.09, 0.14, 0.16, 0.18, 0.06, 0.05, 0.02, 0.1, 0.13, 0.04, 0.03, 0.15, 0.07, 0.08]"
      ],
      "metadata": {
        "id": "7lHRkd0DBIcY"
      },
      "execution_count": 21,
      "outputs": []
    },
    {
      "cell_type": "markdown",
      "source": [
        "**JAWAB :**\n",
        "\n",
        "1. Cari rata-rata open_rate"
      ],
      "metadata": {
        "id": "Dx-RqpC6evD8"
      }
    },
    {
      "cell_type": "code",
      "source": [
        "rataan_open_rate = sum(open_rate) / len(open_rate)\n",
        "print(f'Rata-rata open_rate = {rataan_open_rate:.2f}')"
      ],
      "metadata": {
        "id": "ldzbjAR7e0Eh",
        "colab": {
          "base_uri": "https://localhost:8080/"
        },
        "outputId": "139b7058-ca05-44bf-af2f-6b8a570b0a55"
      },
      "execution_count": 26,
      "outputs": [
        {
          "output_type": "stream",
          "name": "stdout",
          "text": [
            "Rata-rata open_rate = 0.61\n"
          ]
        }
      ]
    },
    {
      "cell_type": "markdown",
      "source": [
        "2. Cari rata-rata conversion_rate"
      ],
      "metadata": {
        "id": "cb6Qc9PUe2qI"
      }
    },
    {
      "cell_type": "code",
      "source": [
        "rataan_conversion_rate = sum(conversion_rate) / len(conversion_rate)\n",
        "print(f'Rata-rata conversion_rate = {rataan_conversion_rate:.2f}')"
      ],
      "metadata": {
        "id": "YOlpmwZVe7Gf",
        "colab": {
          "base_uri": "https://localhost:8080/"
        },
        "outputId": "4696c897-7640-42f8-bcdf-da6034615b1c"
      },
      "execution_count": 27,
      "outputs": [
        {
          "output_type": "stream",
          "name": "stdout",
          "text": [
            "Rata-rata conversion_rate = 0.09\n"
          ]
        }
      ]
    },
    {
      "cell_type": "markdown",
      "source": [
        "3. Hitung bagian pembilang (dimisalkan sebagai A)\n",
        "\n",
        "  \\begin{equation}\n",
        "  A = \\sum_{i=1}^{n}(x_{i} - \\bar{x})\\cdot(y_{i} - \\bar{y})\n",
        "  \\end{equation}"
      ],
      "metadata": {
        "id": "sLn78iOufFPt"
      }
    },
    {
      "cell_type": "code",
      "source": [
        "jumlah_pembilang = 0\n",
        "\n",
        "for i in range(len(conversion_rate)):\n",
        "  jumlah_pembilang += (open_rate[i]-rataan_open_rate) * (conversion_rate[i] - rataan_conversion_rate)\n",
        "\n",
        "print(jumlah_pembilang)"
      ],
      "metadata": {
        "colab": {
          "base_uri": "https://localhost:8080/"
        },
        "id": "DwEcx8L0-ZSv",
        "outputId": "0f6dcc72-ef3c-424b-a905-d532cab98f30"
      },
      "execution_count": 28,
      "outputs": [
        {
          "output_type": "stream",
          "name": "stdout",
          "text": [
            "-0.04483333333333333\n"
          ]
        }
      ]
    },
    {
      "cell_type": "markdown",
      "source": [
        "4. Hitung bagian penyebut (dimisalkan sebagai B)\n",
        "\n",
        "  \\begin{equation}\n",
        "  B = \\sqrt{\\sum_{i=1}^{n}(x_{i} - \\bar{x})^2\\cdot\\sum_{i=1}^{n}(y_{i} - \\bar{y})^2}\n",
        "  \\end{equation}"
      ],
      "metadata": {
        "id": "xJazYyFDfd0F"
      }
    },
    {
      "cell_type": "code",
      "source": [
        "import math\n",
        "\n",
        "jumlah_penyebut_1 = 0\n",
        "jumlah_penyebut_2 = 0\n",
        "\n",
        "for i in range(len(open_rate)):\n",
        "  jumlah_penyebut_1 += ((open_rate[i] - rataan_open_rate)**2)\n",
        "  jumlah_penyebut_2 += ((conversion_rate[i] - rataan_conversion_rate)**2)\n",
        "\n",
        "jumlah_penyebut = math.sqrt(jumlah_penyebut_1 * jumlah_penyebut_2)\n",
        "\n",
        "print(jumlah_penyebut)"
      ],
      "metadata": {
        "colab": {
          "base_uri": "https://localhost:8080/"
        },
        "id": "X8gjYOTi-4EP",
        "outputId": "1f18efa1-b659-48d9-a545-b4116f65b2c8"
      },
      "execution_count": 30,
      "outputs": [
        {
          "output_type": "stream",
          "name": "stdout",
          "text": [
            "0.1328226654018223\n"
          ]
        }
      ]
    },
    {
      "cell_type": "markdown",
      "source": [
        "5. Lakukan perhitungan korelasi\n",
        "\n",
        "<b>Rumus Korelasi Pearson</b>\n",
        "  \\begin{equation}\n",
        "  r=\\frac{\\sum_{i=1}^{n}(x_{i} - \\bar{x})\\cdot(y_{i} - \\bar{y})}{\\sqrt{\\sum_{i=1}^{n}(x_{i} - \\bar{x})^2\\cdot\\sum_{i=1}^{n}(y_{i} - \\bar{y})^2}} \\\\\n",
        "  \\end{equation}"
      ],
      "metadata": {
        "id": "jztVjKyTfpo2"
      }
    },
    {
      "cell_type": "code",
      "source": [
        "r = jumlah_pembilang / jumlah_penyebut\n",
        "\n",
        "print(f'Korelasi = {r:.4f}')"
      ],
      "metadata": {
        "id": "VGpgO_cHfsJi",
        "colab": {
          "base_uri": "https://localhost:8080/"
        },
        "outputId": "7536ad7f-be38-4a36-8183-1c21280e3c4d"
      },
      "execution_count": 31,
      "outputs": [
        {
          "output_type": "stream",
          "name": "stdout",
          "text": [
            "Korelasi = -0.3375\n"
          ]
        }
      ]
    },
    {
      "cell_type": "markdown",
      "source": [
        "6. Tentukan jenis korelasi\n",
        "\n",
        "*   0.0 <= |*r*| <= 0.2 menyatakan hubungan keeratan sangat lemah\n",
        "*   0.2 < |*r*| <= 0.4 menyatakan hubungan keeratan lemah\n",
        "*   0.4 < |*r*| <= 0.7 menyatakan hubungan keeratan cukup kuat\n",
        "*   0.7 < |*r*| <= 0.9 menyatakan hubungan keeratan kuat\n",
        "*   0.9 < |*r*| <= 1.0 menyatakan hubungan keeratan sangat kuat."
      ],
      "metadata": {
        "id": "Xud9QXBgf4dQ"
      }
    },
    {
      "cell_type": "code",
      "source": [
        "if 0.0 <= abs(r) <= 0.2:\n",
        "  print('Hubungan keeratan sangat lemah')\n",
        "elif 0.2 < abs(r) <= 0.4:\n",
        "  print('Hubungan keeratan lemah')\n",
        "elif 0.4 < abs(r) <= 0.7:\n",
        "  print('Hubungan keeratan cukup kuat')\n",
        "elif 0.7 < abs(r) <= 0.9:\n",
        "  print('Hubungan keeratan kuat')\n",
        "else:\n",
        "  print('Hubungan keeratan sangat kuat')"
      ],
      "metadata": {
        "id": "EZV2l_12f9Y6",
        "colab": {
          "base_uri": "https://localhost:8080/"
        },
        "outputId": "2dcff5a1-c63a-44b7-8907-9d5fb60886bc"
      },
      "execution_count": 32,
      "outputs": [
        {
          "output_type": "stream",
          "name": "stdout",
          "text": [
            "Hubungan keeratan lemah\n"
          ]
        }
      ]
    },
    {
      "cell_type": "code",
      "source": [
        "import plotly.express as px\n",
        "\n",
        "fig = px.scatter(\n",
        "  x = open_rate,\n",
        "  y = conversion_rate,\n",
        "  trendline = 'ols',\n",
        "  color_discrete_sequence = ['#0E2954']\n",
        ")\n",
        "\n",
        "fig.show()"
      ],
      "metadata": {
        "colab": {
          "base_uri": "https://localhost:8080/",
          "height": 542
        },
        "id": "d4xRL8tHEd4I",
        "outputId": "1ba75027-9cbc-4484-ae87-64549d66f23d"
      },
      "execution_count": 33,
      "outputs": [
        {
          "output_type": "display_data",
          "data": {
            "text/html": [
              "<html>\n",
              "<head><meta charset=\"utf-8\" /></head>\n",
              "<body>\n",
              "    <div>            <script src=\"https://cdnjs.cloudflare.com/ajax/libs/mathjax/2.7.5/MathJax.js?config=TeX-AMS-MML_SVG\"></script><script type=\"text/javascript\">if (window.MathJax && window.MathJax.Hub && window.MathJax.Hub.Config) {window.MathJax.Hub.Config({SVG: {font: \"STIX-Web\"}});}</script>                <script type=\"text/javascript\">window.PlotlyConfig = {MathJaxConfig: 'local'};</script>\n",
              "        <script charset=\"utf-8\" src=\"https://cdn.plot.ly/plotly-2.35.2.min.js\"></script>                <div id=\"e490264f-0506-4809-9ce5-e0b7161a587f\" class=\"plotly-graph-div\" style=\"height:525px; width:100%;\"></div>            <script type=\"text/javascript\">                                    window.PLOTLYENV=window.PLOTLYENV || {};                                    if (document.getElementById(\"e490264f-0506-4809-9ce5-e0b7161a587f\")) {                    Plotly.newPlot(                        \"e490264f-0506-4809-9ce5-e0b7161a587f\",                        [{\"hovertemplate\":\"x=%{x}\\u003cbr\\u003ey=%{y}\\u003cextra\\u003e\\u003c\\u002fextra\\u003e\",\"legendgroup\":\"\",\"marker\":{\"color\":\"#0E2954\",\"symbol\":\"circle\"},\"mode\":\"markers\",\"name\":\"\",\"orientation\":\"v\",\"showlegend\":false,\"x\":[0.34,0.57,0.61,0.68,0.41,0.83,0.91,0.26,0.65,0.49,0.74,0.75,0.52,0.85,0.59],\"xaxis\":\"x\",\"y\":[0.12,0.09,0.14,0.16,0.18,0.06,0.05,0.02,0.1,0.13,0.04,0.03,0.15,0.07,0.08],\"yaxis\":\"y\",\"type\":\"scatter\"},{\"hovertemplate\":\"\\u003cb\\u003eOLS trendline\\u003c\\u002fb\\u003e\\u003cbr\\u003ey = -0.0898944 * x + 0.149802\\u003cbr\\u003eR\\u003csup\\u003e2\\u003c\\u002fsup\\u003e=0.113935\\u003cbr\\u003e\\u003cbr\\u003ex=%{x}\\u003cbr\\u003ey=%{y} \\u003cb\\u003e(trend)\\u003c\\u002fb\\u003e\\u003cextra\\u003e\\u003c\\u002fextra\\u003e\",\"legendgroup\":\"\",\"marker\":{\"color\":\"#0E2954\",\"symbol\":\"circle\"},\"mode\":\"lines\",\"name\":\"\",\"showlegend\":false,\"x\":[0.26,0.34,0.41,0.49,0.52,0.57,0.59,0.61,0.65,0.68,0.74,0.75,0.83,0.85,0.91],\"xaxis\":\"x\",\"y\":[0.12642935436438976,0.1192378024328298,0.11294519449271485,0.10575364256115491,0.10305681058681992,0.09856209062959495,0.09676420264670496,0.09496631466381497,0.09137053869803499,0.08867370672370001,0.08328004277503005,0.08238109878358506,0.07518954685202511,0.07339165886913512,0.06799799492046515],\"yaxis\":\"y\",\"type\":\"scatter\"}],                        {\"template\":{\"data\":{\"histogram2dcontour\":[{\"type\":\"histogram2dcontour\",\"colorbar\":{\"outlinewidth\":0,\"ticks\":\"\"},\"colorscale\":[[0.0,\"#0d0887\"],[0.1111111111111111,\"#46039f\"],[0.2222222222222222,\"#7201a8\"],[0.3333333333333333,\"#9c179e\"],[0.4444444444444444,\"#bd3786\"],[0.5555555555555556,\"#d8576b\"],[0.6666666666666666,\"#ed7953\"],[0.7777777777777778,\"#fb9f3a\"],[0.8888888888888888,\"#fdca26\"],[1.0,\"#f0f921\"]]}],\"choropleth\":[{\"type\":\"choropleth\",\"colorbar\":{\"outlinewidth\":0,\"ticks\":\"\"}}],\"histogram2d\":[{\"type\":\"histogram2d\",\"colorbar\":{\"outlinewidth\":0,\"ticks\":\"\"},\"colorscale\":[[0.0,\"#0d0887\"],[0.1111111111111111,\"#46039f\"],[0.2222222222222222,\"#7201a8\"],[0.3333333333333333,\"#9c179e\"],[0.4444444444444444,\"#bd3786\"],[0.5555555555555556,\"#d8576b\"],[0.6666666666666666,\"#ed7953\"],[0.7777777777777778,\"#fb9f3a\"],[0.8888888888888888,\"#fdca26\"],[1.0,\"#f0f921\"]]}],\"heatmap\":[{\"type\":\"heatmap\",\"colorbar\":{\"outlinewidth\":0,\"ticks\":\"\"},\"colorscale\":[[0.0,\"#0d0887\"],[0.1111111111111111,\"#46039f\"],[0.2222222222222222,\"#7201a8\"],[0.3333333333333333,\"#9c179e\"],[0.4444444444444444,\"#bd3786\"],[0.5555555555555556,\"#d8576b\"],[0.6666666666666666,\"#ed7953\"],[0.7777777777777778,\"#fb9f3a\"],[0.8888888888888888,\"#fdca26\"],[1.0,\"#f0f921\"]]}],\"heatmapgl\":[{\"type\":\"heatmapgl\",\"colorbar\":{\"outlinewidth\":0,\"ticks\":\"\"},\"colorscale\":[[0.0,\"#0d0887\"],[0.1111111111111111,\"#46039f\"],[0.2222222222222222,\"#7201a8\"],[0.3333333333333333,\"#9c179e\"],[0.4444444444444444,\"#bd3786\"],[0.5555555555555556,\"#d8576b\"],[0.6666666666666666,\"#ed7953\"],[0.7777777777777778,\"#fb9f3a\"],[0.8888888888888888,\"#fdca26\"],[1.0,\"#f0f921\"]]}],\"contourcarpet\":[{\"type\":\"contourcarpet\",\"colorbar\":{\"outlinewidth\":0,\"ticks\":\"\"}}],\"contour\":[{\"type\":\"contour\",\"colorbar\":{\"outlinewidth\":0,\"ticks\":\"\"},\"colorscale\":[[0.0,\"#0d0887\"],[0.1111111111111111,\"#46039f\"],[0.2222222222222222,\"#7201a8\"],[0.3333333333333333,\"#9c179e\"],[0.4444444444444444,\"#bd3786\"],[0.5555555555555556,\"#d8576b\"],[0.6666666666666666,\"#ed7953\"],[0.7777777777777778,\"#fb9f3a\"],[0.8888888888888888,\"#fdca26\"],[1.0,\"#f0f921\"]]}],\"surface\":[{\"type\":\"surface\",\"colorbar\":{\"outlinewidth\":0,\"ticks\":\"\"},\"colorscale\":[[0.0,\"#0d0887\"],[0.1111111111111111,\"#46039f\"],[0.2222222222222222,\"#7201a8\"],[0.3333333333333333,\"#9c179e\"],[0.4444444444444444,\"#bd3786\"],[0.5555555555555556,\"#d8576b\"],[0.6666666666666666,\"#ed7953\"],[0.7777777777777778,\"#fb9f3a\"],[0.8888888888888888,\"#fdca26\"],[1.0,\"#f0f921\"]]}],\"mesh3d\":[{\"type\":\"mesh3d\",\"colorbar\":{\"outlinewidth\":0,\"ticks\":\"\"}}],\"scatter\":[{\"fillpattern\":{\"fillmode\":\"overlay\",\"size\":10,\"solidity\":0.2},\"type\":\"scatter\"}],\"parcoords\":[{\"type\":\"parcoords\",\"line\":{\"colorbar\":{\"outlinewidth\":0,\"ticks\":\"\"}}}],\"scatterpolargl\":[{\"type\":\"scatterpolargl\",\"marker\":{\"colorbar\":{\"outlinewidth\":0,\"ticks\":\"\"}}}],\"bar\":[{\"error_x\":{\"color\":\"#2a3f5f\"},\"error_y\":{\"color\":\"#2a3f5f\"},\"marker\":{\"line\":{\"color\":\"#E5ECF6\",\"width\":0.5},\"pattern\":{\"fillmode\":\"overlay\",\"size\":10,\"solidity\":0.2}},\"type\":\"bar\"}],\"scattergeo\":[{\"type\":\"scattergeo\",\"marker\":{\"colorbar\":{\"outlinewidth\":0,\"ticks\":\"\"}}}],\"scatterpolar\":[{\"type\":\"scatterpolar\",\"marker\":{\"colorbar\":{\"outlinewidth\":0,\"ticks\":\"\"}}}],\"histogram\":[{\"marker\":{\"pattern\":{\"fillmode\":\"overlay\",\"size\":10,\"solidity\":0.2}},\"type\":\"histogram\"}],\"scattergl\":[{\"type\":\"scattergl\",\"marker\":{\"colorbar\":{\"outlinewidth\":0,\"ticks\":\"\"}}}],\"scatter3d\":[{\"type\":\"scatter3d\",\"line\":{\"colorbar\":{\"outlinewidth\":0,\"ticks\":\"\"}},\"marker\":{\"colorbar\":{\"outlinewidth\":0,\"ticks\":\"\"}}}],\"scattermapbox\":[{\"type\":\"scattermapbox\",\"marker\":{\"colorbar\":{\"outlinewidth\":0,\"ticks\":\"\"}}}],\"scatterternary\":[{\"type\":\"scatterternary\",\"marker\":{\"colorbar\":{\"outlinewidth\":0,\"ticks\":\"\"}}}],\"scattercarpet\":[{\"type\":\"scattercarpet\",\"marker\":{\"colorbar\":{\"outlinewidth\":0,\"ticks\":\"\"}}}],\"carpet\":[{\"aaxis\":{\"endlinecolor\":\"#2a3f5f\",\"gridcolor\":\"white\",\"linecolor\":\"white\",\"minorgridcolor\":\"white\",\"startlinecolor\":\"#2a3f5f\"},\"baxis\":{\"endlinecolor\":\"#2a3f5f\",\"gridcolor\":\"white\",\"linecolor\":\"white\",\"minorgridcolor\":\"white\",\"startlinecolor\":\"#2a3f5f\"},\"type\":\"carpet\"}],\"table\":[{\"cells\":{\"fill\":{\"color\":\"#EBF0F8\"},\"line\":{\"color\":\"white\"}},\"header\":{\"fill\":{\"color\":\"#C8D4E3\"},\"line\":{\"color\":\"white\"}},\"type\":\"table\"}],\"barpolar\":[{\"marker\":{\"line\":{\"color\":\"#E5ECF6\",\"width\":0.5},\"pattern\":{\"fillmode\":\"overlay\",\"size\":10,\"solidity\":0.2}},\"type\":\"barpolar\"}],\"pie\":[{\"automargin\":true,\"type\":\"pie\"}]},\"layout\":{\"autotypenumbers\":\"strict\",\"colorway\":[\"#636efa\",\"#EF553B\",\"#00cc96\",\"#ab63fa\",\"#FFA15A\",\"#19d3f3\",\"#FF6692\",\"#B6E880\",\"#FF97FF\",\"#FECB52\"],\"font\":{\"color\":\"#2a3f5f\"},\"hovermode\":\"closest\",\"hoverlabel\":{\"align\":\"left\"},\"paper_bgcolor\":\"white\",\"plot_bgcolor\":\"#E5ECF6\",\"polar\":{\"bgcolor\":\"#E5ECF6\",\"angularaxis\":{\"gridcolor\":\"white\",\"linecolor\":\"white\",\"ticks\":\"\"},\"radialaxis\":{\"gridcolor\":\"white\",\"linecolor\":\"white\",\"ticks\":\"\"}},\"ternary\":{\"bgcolor\":\"#E5ECF6\",\"aaxis\":{\"gridcolor\":\"white\",\"linecolor\":\"white\",\"ticks\":\"\"},\"baxis\":{\"gridcolor\":\"white\",\"linecolor\":\"white\",\"ticks\":\"\"},\"caxis\":{\"gridcolor\":\"white\",\"linecolor\":\"white\",\"ticks\":\"\"}},\"coloraxis\":{\"colorbar\":{\"outlinewidth\":0,\"ticks\":\"\"}},\"colorscale\":{\"sequential\":[[0.0,\"#0d0887\"],[0.1111111111111111,\"#46039f\"],[0.2222222222222222,\"#7201a8\"],[0.3333333333333333,\"#9c179e\"],[0.4444444444444444,\"#bd3786\"],[0.5555555555555556,\"#d8576b\"],[0.6666666666666666,\"#ed7953\"],[0.7777777777777778,\"#fb9f3a\"],[0.8888888888888888,\"#fdca26\"],[1.0,\"#f0f921\"]],\"sequentialminus\":[[0.0,\"#0d0887\"],[0.1111111111111111,\"#46039f\"],[0.2222222222222222,\"#7201a8\"],[0.3333333333333333,\"#9c179e\"],[0.4444444444444444,\"#bd3786\"],[0.5555555555555556,\"#d8576b\"],[0.6666666666666666,\"#ed7953\"],[0.7777777777777778,\"#fb9f3a\"],[0.8888888888888888,\"#fdca26\"],[1.0,\"#f0f921\"]],\"diverging\":[[0,\"#8e0152\"],[0.1,\"#c51b7d\"],[0.2,\"#de77ae\"],[0.3,\"#f1b6da\"],[0.4,\"#fde0ef\"],[0.5,\"#f7f7f7\"],[0.6,\"#e6f5d0\"],[0.7,\"#b8e186\"],[0.8,\"#7fbc41\"],[0.9,\"#4d9221\"],[1,\"#276419\"]]},\"xaxis\":{\"gridcolor\":\"white\",\"linecolor\":\"white\",\"ticks\":\"\",\"title\":{\"standoff\":15},\"zerolinecolor\":\"white\",\"automargin\":true,\"zerolinewidth\":2},\"yaxis\":{\"gridcolor\":\"white\",\"linecolor\":\"white\",\"ticks\":\"\",\"title\":{\"standoff\":15},\"zerolinecolor\":\"white\",\"automargin\":true,\"zerolinewidth\":2},\"scene\":{\"xaxis\":{\"backgroundcolor\":\"#E5ECF6\",\"gridcolor\":\"white\",\"linecolor\":\"white\",\"showbackground\":true,\"ticks\":\"\",\"zerolinecolor\":\"white\",\"gridwidth\":2},\"yaxis\":{\"backgroundcolor\":\"#E5ECF6\",\"gridcolor\":\"white\",\"linecolor\":\"white\",\"showbackground\":true,\"ticks\":\"\",\"zerolinecolor\":\"white\",\"gridwidth\":2},\"zaxis\":{\"backgroundcolor\":\"#E5ECF6\",\"gridcolor\":\"white\",\"linecolor\":\"white\",\"showbackground\":true,\"ticks\":\"\",\"zerolinecolor\":\"white\",\"gridwidth\":2}},\"shapedefaults\":{\"line\":{\"color\":\"#2a3f5f\"}},\"annotationdefaults\":{\"arrowcolor\":\"#2a3f5f\",\"arrowhead\":0,\"arrowwidth\":1},\"geo\":{\"bgcolor\":\"white\",\"landcolor\":\"#E5ECF6\",\"subunitcolor\":\"white\",\"showland\":true,\"showlakes\":true,\"lakecolor\":\"white\"},\"title\":{\"x\":0.05},\"mapbox\":{\"style\":\"light\"}}},\"xaxis\":{\"anchor\":\"y\",\"domain\":[0.0,1.0],\"title\":{\"text\":\"x\"}},\"yaxis\":{\"anchor\":\"x\",\"domain\":[0.0,1.0],\"title\":{\"text\":\"y\"}},\"legend\":{\"tracegroupgap\":0},\"margin\":{\"t\":60}},                        {\"responsive\": true}                    ).then(function(){\n",
              "                            \n",
              "var gd = document.getElementById('e490264f-0506-4809-9ce5-e0b7161a587f');\n",
              "var x = new MutationObserver(function (mutations, observer) {{\n",
              "        var display = window.getComputedStyle(gd).display;\n",
              "        if (!display || display === 'none') {{\n",
              "            console.log([gd, 'removed!']);\n",
              "            Plotly.purge(gd);\n",
              "            observer.disconnect();\n",
              "        }}\n",
              "}});\n",
              "\n",
              "// Listen for the removal of the full notebook cells\n",
              "var notebookContainer = gd.closest('#notebook-container');\n",
              "if (notebookContainer) {{\n",
              "    x.observe(notebookContainer, {childList: true});\n",
              "}}\n",
              "\n",
              "// Listen for the clearing of the current output cell\n",
              "var outputEl = gd.closest('.output');\n",
              "if (outputEl) {{\n",
              "    x.observe(outputEl, {childList: true});\n",
              "}}\n",
              "\n",
              "                        })                };                            </script>        </div>\n",
              "</body>\n",
              "</html>"
            ]
          },
          "metadata": {}
        }
      ]
    },
    {
      "cell_type": "markdown",
      "source": [
        "## **Interpretasi Hasil**\n",
        "\n",
        "Koefisien korelasi Pearson -0.3375 menunjukkan bahwa ada korelasi negatif yang lemah antara open rate dan conversion rate. Artinya, secara umum, semakin tinggi tingkat pembukaan email (open rate), semakin rendah tingkat konversi (conversion rate).\n",
        "\n",
        "## Interpretasi dalam Konteks Pemasaran:\n",
        "\n",
        "Meskipun tampak berlawanan dengan intuisi, hasil ini bisa terjadi karena beberapa alasan:\n",
        "\n",
        "* Target audiens yang tidak tepat: Email mungkin dibuka oleh banyak orang, tetapi jika mereka bukan target audiens yang tepat untuk penawaran, tingkat konversi akan rendah.\n",
        "* Konten email yang tidak relevan: Email mungkin menarik perhatian sehingga dibuka, tetapi isinya tidak relevan atau tidak cukup meyakinkan untuk mendorong konversi.\n",
        "* Call to action (CTA) yang lemah: Meskipun email dibuka dan dibaca, CTA yang lemah atau tidak jelas dapat menghalangi orang untuk melakukan tindakan yang diinginkan (misalnya, membeli produk, mendaftar, dll.).\n",
        "* Faktor-faktor lain yang lebih dominan: Mungkin ada faktor lain yang lebih kuat dalam mempengaruhi conversion rate, seperti desain landing page, penawaran produk, harga, dan sebagainya.\n",
        "\n",
        "## Rekomendasi:\n",
        "\n",
        "Berdasarkan hasil ini, dapat dicoba beberapa hal berikut:\n",
        "\n",
        "* Segmentasi audiens yang lebih baik: Pastikan email dikirim ke target audiens yang tepat dan relevan dengan penawaran.\n",
        "* Optimasi konten email: Pastikan konten email relevan, menarik, dan meyakinkan untuk mendorong konversi.\n",
        "* Perkuat CTA: Gunakan CTA yang jelas, ringkas, dan menarik perhatian.\n",
        "* Analisis faktor-faktor lain: Lakukan analisis lebih lanjut untuk mengidentifikasi faktor-faktor lain yang mungkin memengaruhi conversion rate dan optimalkan faktor-faktor tersebut.\n",
        "* Uji A/B Testing: Lakukan uji A/B testing pada elemen-elemen email (subject line, konten, CTA) untuk melihat variasi mana yang menghasilkan conversion rate yang lebih tinggi.\n"
      ],
      "metadata": {
        "id": "DD4Iaxwqf-x8"
      }
    },
    {
      "cell_type": "code",
      "source": [],
      "metadata": {
        "id": "sS-iZGu7GNd1"
      },
      "execution_count": null,
      "outputs": []
    }
  ]
}