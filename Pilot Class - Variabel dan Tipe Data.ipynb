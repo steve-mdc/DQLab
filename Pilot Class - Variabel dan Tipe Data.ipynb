{
  "nbformat": 4,
  "nbformat_minor": 0,
  "metadata": {
    "colab": {
      "provenance": []
    },
    "kernelspec": {
      "name": "python3",
      "display_name": "Python 3"
    },
    "language_info": {
      "name": "python"
    }
  },
  "cells": [
    {
      "cell_type": "markdown",
      "source": [
        "<img src=\"https://raw.githubusercontent.com/bachtiyarmawork/DQLab-Project/main/BP%20-%20Header.png\">"
      ],
      "metadata": {
        "id": "-jNAk0PLJPW1"
      }
    },
    {
      "cell_type": "markdown",
      "source": [
        "# 💾 1. Variabel\n",
        "\n",
        "Variabel pada bahasa pemrograman adalah tempat penyimpanan untuk data atau informasi. Variabel digunakan untuk menyimpan nilai, yang kemudian bisa diakses atau dimanipulasi dalam program\n",
        "<br>\n",
        "\n",
        "Aturan penamaan variabel (pada Python):\n",
        "\n",
        "*   Hanya huruf, angka dan *underscore*\n",
        "*   Nama variabel tidak dapat diawali dengan angka\n",
        "*   Usahakan nama variabel sesuai dengan kegunaannya\n",
        "*   *Lowercase preferred*\n",
        "\n",
        "<br>\n",
        "\n",
        "**Contoh :**\n",
        "Sebuah perusahaan teknologi terkemuka, DQTech tahun ini telah membukukan revenue sebesar 40 Miliar rupiah. Pada python, buatlah sebuah variabel untuk menyimpan nilai tersebut (revenue DQTech)\n",
        "\n",
        "**Jawab :** *Ketikan ini pada cell lalu eksekusi (run)*\n",
        "```\n",
        "revenue_DQTech = 40000000000\n",
        "```\n",
        "\n",
        "Perintah ini tidak akan mengeluarkan output apapun, hanya menyimpan variabel ke dalam memory"
      ],
      "metadata": {
        "id": "NeRxESQs9rdw"
      }
    },
    {
      "cell_type": "markdown",
      "source": [
        "### 👨‍💻 Task 1 - A\n",
        "\n",
        "Sebuah kode transaksi `'TRX20230001'` akan disimpan dalam sebuah variabel, coba buat sebuah variabel lalu assign nilai tersebut kedalamnya!\n",
        "\n",
        "*Note : Perhatikan aturan penamaan variabel ya!*"
      ],
      "metadata": {
        "id": "XbjQx2NV-3Ii"
      }
    },
    {
      "cell_type": "code",
      "execution_count": null,
      "metadata": {
        "id": "AIiALShK82wr"
      },
      "outputs": [],
      "source": [
        "# Write your code below here & exec!\n",
        "..."
      ]
    },
    {
      "cell_type": "markdown",
      "source": [
        "### 👨‍💻 Task 1 - B\n",
        "\n",
        "Untuk menghitung PAT (Profit After Tax) pada sebuah program, perlu dibuat sebuah variabel pada Python yang menyimpan sebuah nilai PPN (Pajak Penerimaan Negara) sebesar 12%. Buatlah variabel tersebut dengan mengetikan kodenya dibawah ini!\n",
        "\n",
        "*Note : Perhatikan aturan penamaan variabel ya!*"
      ],
      "metadata": {
        "id": "tlbwKouAAySU"
      }
    },
    {
      "cell_type": "code",
      "source": [
        "# Write your code below here & exec!\n",
        "..."
      ],
      "metadata": {
        "id": "nMtGHeD0A_Cx"
      },
      "execution_count": null,
      "outputs": []
    },
    {
      "cell_type": "markdown",
      "source": [
        "---\n",
        "\n"
      ],
      "metadata": {
        "id": "1ju0T1SEE7gi"
      }
    },
    {
      "cell_type": "markdown",
      "source": [
        "# 🖨️ 2. Menampilkan Variabel\n",
        "\n",
        "Gunakan fungsi `print()` untuk menampilkan sesuatu pada python\n",
        "\n",
        "<br>\n",
        "\n",
        "**Contoh :**\n",
        "Sebuah perusahaan teknologi terkemuka, DQTech tahun ini telah membukukan revenue sebesar 40 Miliar rupiah. Pada python, buatlah sebuah variabel untuk menyimpan nilai tersebut (revenue DQTech) dan tampilkan nilainya dengan menambahkan beberapa kalimat penjelas.\n",
        "\n",
        "**Jawab :** *Ketikan ini pada cell lalu eksekusi (run)*\n",
        "```\n",
        "# Buat variabel\n",
        "revenue_DQTech = 40000000000\n",
        "\n",
        "# Tampilkan hasilnya\n",
        "print('Pendapatan yang diperoleh DQTech adalah', revenue_DQTech)\n",
        "\n",
        ">>> Output :      \n",
        ">>> Pendapatan yang diperoleh DQTech adalah 40000000000\n",
        "```"
      ],
      "metadata": {
        "id": "3hx6-t6eCQ7l"
      }
    },
    {
      "cell_type": "markdown",
      "source": [
        "### 👨‍💻 Task 2 - A\n",
        "\n",
        "Sebuah nilai `'TRX20230001'` akan disimpan dalam sebuah variabel, coba buat sebuah variabel lalu assign nilai tersebut kedalamnya lalu tampilkan outputnya!\n",
        "\n",
        "Gunakan `Style 1 : print('...', variabel1, ...)`"
      ],
      "metadata": {
        "id": "CSs2Js4ECi4L"
      }
    },
    {
      "cell_type": "code",
      "source": [
        "# Write your code below here & exec!\n",
        "..."
      ],
      "metadata": {
        "id": "V5qiLOhgCgRB",
        "colab": {
          "base_uri": "https://localhost:8080/"
        },
        "outputId": "9752e7cd-5cbc-4a11-9085-e84bd35b32cd"
      },
      "execution_count": null,
      "outputs": [
        {
          "output_type": "stream",
          "name": "stdout",
          "text": [
            "Kode transaksi anda = TRX20230002\n"
          ]
        }
      ]
    },
    {
      "cell_type": "markdown",
      "source": [
        "### 👨‍💻 Task 2 - B\n",
        "\n",
        "Perintah yang sama namun gunakan `Style 2 : print(f'... {variabel}')`"
      ],
      "metadata": {
        "id": "Wtl9uUDFDFhD"
      }
    },
    {
      "cell_type": "code",
      "source": [
        "# Write your code below here & exec!\n",
        "..."
      ],
      "metadata": {
        "id": "wHe-aSuWDFB_",
        "colab": {
          "base_uri": "https://localhost:8080/"
        },
        "outputId": "447d049c-da0d-4fb7-8eef-015164a9819e"
      },
      "execution_count": null,
      "outputs": [
        {
          "output_type": "stream",
          "name": "stdout",
          "text": [
            "Nomor transaksi yang disimpan adalah TRX20230006\n"
          ]
        }
      ]
    },
    {
      "cell_type": "markdown",
      "source": [
        "### 👨‍💻 Task 2 - C\n",
        "\n",
        "Perintah yang sama namun gunakan `Style 3 : print('... {}'.format(variabel))`"
      ],
      "metadata": {
        "id": "ntOPyJMoDc6k"
      }
    },
    {
      "cell_type": "code",
      "source": [
        "# Write your code below here & exec!\n",
        "..."
      ],
      "metadata": {
        "id": "EqgoHxfGDpNT",
        "colab": {
          "base_uri": "https://localhost:8080/"
        },
        "outputId": "718ccd80-d0a0-4a34-906f-d9577a6a8092"
      },
      "execution_count": null,
      "outputs": [
        {
          "output_type": "stream",
          "name": "stdout",
          "text": [
            "Nomor transaksi yang disimpan adalah TRX20230002\n"
          ]
        }
      ]
    },
    {
      "cell_type": "markdown",
      "source": [
        "### 👨‍💻 Task 2 - D\n",
        "\n",
        "Bang Messi, seorang customer di DQTech memiliki data diri sebagai berikut :     \n",
        "\n",
        "*   Nama = Messi\n",
        "*   Usia = 36 Tahun\n",
        "*   Alamat = Tegal Bahari\n",
        "\n",
        "Simpanlah beberapa data tersebut kedalam variabel dengan expected output seperti berikut\n",
        "\n",
        "`Messi (36) beralamat di Tegal Bahari merupakan pelanggan loyal di DQTech`"
      ],
      "metadata": {
        "id": "z6N44zylDwCl"
      }
    },
    {
      "cell_type": "code",
      "source": [
        "# Write your code below here & exec!\n",
        "nama_pelanggan = ...\n",
        "usia_pelanggan = ...\n",
        "alamat_pelanggan = ...\n",
        "\n",
        "# Tampilkan hasil\n",
        "..."
      ],
      "metadata": {
        "id": "1OVzy38fDy3a",
        "colab": {
          "base_uri": "https://localhost:8080/"
        },
        "outputId": "02c66e28-6ab0-4209-b7cb-cf19e1df6499"
      },
      "execution_count": null,
      "outputs": [
        {
          "output_type": "stream",
          "name": "stdout",
          "text": [
            "Bang Messi (36) beralamat di Tegal Bahari merupakan pelanggan loyal di DQTech\n"
          ]
        }
      ]
    },
    {
      "cell_type": "markdown",
      "source": [
        "---"
      ],
      "metadata": {
        "id": "6N5e2DffKE_e"
      }
    },
    {
      "cell_type": "markdown",
      "source": [
        "# ➡️ 3. Assignment\n",
        "\n",
        "Assignment adalah tindakan memberikan nilai atau data ke sebuah variabel.\n",
        "\n",
        "*   Variable yang akan diassignment harus terletak disebelah kiri tanda sama dengan ( = )\n",
        "*   Variabel yang sama jika diassign 2 kali maka nilai yang akan disimpan adalah yang paling akhir\n",
        "*   Python men-support proses assignment satu nilai pada multivariable\n",
        "*   Python juga men-support proses assignment banyak nilai pada multivariable secara serentak\n",
        "*   Proses sebelah kanan akan dilakukan terlebih dahulu baru di-assign ke variable sebelah kiri\n",
        "\n",
        "\n",
        "\n"
      ],
      "metadata": {
        "id": "0wt9UE4iHWgt"
      }
    },
    {
      "cell_type": "markdown",
      "source": [
        "### 👨‍💻 Task 3 - A\n",
        "\n",
        "Metrik yang digunakan dalam periklanan online dan pemasaran digital untuk mengukur seberapa sering pengguna mengklik tautan atau iklan tertentu dibandingkan dengan seberapa sering tautan atau iklan tersebut ditampilkan kepada mereka biasa disebut dengan Click-Through Rate (CTR).\n",
        "\n",
        "CTR yang diperoleh DQTech sebesar 4,3896% yang kemudian nilai ini ingin disimpan dalam sebuah variabel bernama CTR_DQtech lalu ingin ditampilkan hasilnya. Namun, Sendja mengalami error saat proses penyimpanan variabel tersebut.\n",
        "\n",
        "Bantu Sendja untuk memperbaiki kode dibawah ini"
      ],
      "metadata": {
        "id": "vEcbL1SQKEG9"
      }
    },
    {
      "cell_type": "code",
      "source": [
        "# Help Sendja!\n",
        "\n",
        "# Initialize Variable\n",
        "4,3896% = 'CTR_DQTech'\n",
        "\n",
        "# Show the result\n",
        "pritn('CTR_DQTech')"
      ],
      "metadata": {
        "colab": {
          "base_uri": "https://localhost:8080/",
          "height": 135
        },
        "id": "Jm6YZwJ4J2bE",
        "outputId": "ae73b6c8-46f5-4766-a630-3b727ebace82"
      },
      "execution_count": null,
      "outputs": [
        {
          "output_type": "error",
          "ename": "SyntaxError",
          "evalue": "ignored",
          "traceback": [
            "\u001b[0;36m  File \u001b[0;32m\"<ipython-input-35-0314d3859cd2>\"\u001b[0;36m, line \u001b[0;32m4\u001b[0m\n\u001b[0;31m    4,3896% = 'CTR_DQTech'\u001b[0m\n\u001b[0m            ^\u001b[0m\n\u001b[0;31mSyntaxError\u001b[0m\u001b[0;31m:\u001b[0m invalid syntax\n"
          ]
        }
      ]
    },
    {
      "cell_type": "code",
      "source": [
        "# Perbaiki disini\n",
        "..."
      ],
      "metadata": {
        "id": "EkQbUtnJGHrE"
      },
      "execution_count": 2,
      "outputs": []
    },
    {
      "cell_type": "markdown",
      "source": [
        "### 👨‍💻 Task 3 - B\n",
        "\n",
        "Tulis dalam satu baris proses assignment beberapa variabel indikator keuangan pada perbankan syariah berikut pada python :    \n",
        "\n",
        "* NPF : 3.56\n",
        "* COF : 1.78\n",
        "* FDR : 56\n",
        "\n",
        "*Note : Just One Line Needed!*"
      ],
      "metadata": {
        "id": "Ol81wxcmM3o1"
      }
    },
    {
      "cell_type": "code",
      "source": [
        "# Write your code below here & exec!\n",
        "...\n",
        "\n",
        "# Tampilkan nilainya\n",
        "print(...)"
      ],
      "metadata": {
        "colab": {
          "base_uri": "https://localhost:8080/"
        },
        "id": "FaU1zdsjrO2T",
        "outputId": "58d2d66b-c3b1-4dec-ce30-7711afd117d5"
      },
      "execution_count": null,
      "outputs": [
        {
          "output_type": "stream",
          "name": "stdout",
          "text": [
            "Nilai NPF = 3.56, COF = 1.78 dan FDR = 56\n"
          ]
        }
      ]
    },
    {
      "cell_type": "markdown",
      "source": [
        "---"
      ],
      "metadata": {
        "id": "uLupQlVPcD6K"
      }
    },
    {
      "cell_type": "markdown",
      "source": [
        "# 📈 4. Tipe Data\n",
        "\n",
        "Tipe data adalah jenis nilai yang disimpan pada sebuah variabel. Jenis tipe data pada python : <br><br>    \n",
        "\n",
        "<table>\n",
        "  <tr>\n",
        "    <th>Tipe Data</th>\n",
        "    <th>Kepanjangan</th>\n",
        "    <th>Deskripsi</th>\n",
        "  </tr>\n",
        "  <tr>\n",
        "    <td>str</td>\n",
        "    <td>string</td>\n",
        "    <td>Karakter / alfabet</td>\n",
        "  </tr>\n",
        "  <tr>\n",
        "    <td>int</td>\n",
        "    <td>integer</td>\n",
        "    <td>Bilangan Bulat</td>\n",
        "  </tr>\n",
        "  <tr>\n",
        "    <td>float</td>\n",
        "    <td>floating-point number</td>\n",
        "    <td>Semua Bilangan (baik bulat maupun desimal)</td>\n",
        "  </tr>\n",
        "  <tr>\n",
        "    <td>complex</td>\n",
        "    <td>complex number</td>\n",
        "    <td>Campuran bilangan bulat dan bilangan imajiner</td>\n",
        "  </tr>\n",
        "  <tr>\n",
        "    <td>bool</td>\n",
        "    <td>boolean</td>\n",
        "    <td>Nilai Kebenaran (True / False)</td>\n",
        "  </tr>\n",
        "</table>\n",
        "\n",
        "Untuk memeriksa tipe data pada sebuah variabel gunakan fungsi `type(variabel)`\n",
        "\n",
        "<br>\n",
        "\n",
        "**Contoh :**\n",
        "Sebuah perusahaan teknologi terkemuka, DQTech tahun ini telah membukukan revenue sebesar 40 Miliar rupiah. Pada python, buatlah sebuah variabel untuk menyimpan nilai tersebut (revenue DQTech) dan tampilkan nilainya beserta tipe datanya dengan menambahkan beberapa kalimat penjelas\n",
        "\n",
        "**Jawab :** *Ketikan ini pada cell lalu eksekusi (run)*\n",
        "```\n",
        "# Buat variabel\n",
        "revenue_DQTech = 40000000000\n",
        "\n",
        "# Tampilkan hasilnya\n",
        "print(f'Pendapatan yang diperoleh DQTech adalah {revenue_DQTech} dengan tipe data {type(revenue_DQTech)}')\n",
        "\n",
        ">>> Output :      \n",
        ">>> Pendapatan yang diperoleh DQTech adalah 40000000000 dengan tipe data <class 'int'>\n",
        "```"
      ],
      "metadata": {
        "id": "0km2BS2DSnD5"
      }
    },
    {
      "cell_type": "markdown",
      "source": [
        "### 👨‍💻 Task 4 - A\n",
        "\n",
        "Aplikasi baru yang diluncurkan oleh perusahaan teknologi ternama DQTech mendapat rating 4.9 (scoring max = 5.0). Nilai tersebut akan disimpan kedalam sebuah variabel pada python sehingga bantulah Sendja untuk membuat variabel dan tampilkan nilai beserta tipe datanya!"
      ],
      "metadata": {
        "id": "I-oaUas-UKP1"
      }
    },
    {
      "cell_type": "code",
      "source": [
        "# Write your code below here & exec!\n",
        "...\n",
        "\n",
        "# Tampilkan hasilnya\n",
        "print(...)"
      ],
      "metadata": {
        "id": "esOl1BXQWDwA",
        "colab": {
          "base_uri": "https://localhost:8080/"
        },
        "outputId": "c304768b-8d76-4dc4-d85f-a913e0bd9f81"
      },
      "execution_count": 4,
      "outputs": [
        {
          "output_type": "stream",
          "name": "stdout",
          "text": [
            "rating score DQTech adalah 4.9 Bertipe : <class 'float'>\n"
          ]
        }
      ]
    },
    {
      "cell_type": "markdown",
      "source": [
        "### 👨‍💻 Task 4 - B\n",
        "\n",
        "Kode yang dituliskan Sendja berikut dapat dieksekusi oleh Python,\n",
        "\n",
        "```\n",
        "retention_rate = '0.8912'\n",
        "\n",
        "print('Variabel retention_rate menyimpan nilai = {retention_rate} dengan tipe data = {type}')\n",
        "```\n",
        "\n",
        "namun outputnya tidak sesuai dengan yang Sendja harapkan. Bantulah Sendja untuk memperbaiki kesalahan yang dilakukan olehnya!"
      ],
      "metadata": {
        "id": "xzKPKft-WELu"
      }
    },
    {
      "cell_type": "code",
      "source": [
        "# Help Sendja!\n",
        "retention_rate = '0.8912'\n",
        "\n",
        "print('Variabel retention_rate menyimpan nilai = {retention_rate} dengan tipe data = {type}')"
      ],
      "metadata": {
        "colab": {
          "base_uri": "https://localhost:8080/"
        },
        "id": "pJyqZUG3XYDL",
        "outputId": "aacc7e6c-2797-48c3-99b8-dfaa4aade052"
      },
      "execution_count": null,
      "outputs": [
        {
          "output_type": "stream",
          "name": "stdout",
          "text": [
            "Variabel retention_rate menyimpan nilai = {retention_rate} dengan tipe data = {type}\n"
          ]
        }
      ]
    },
    {
      "cell_type": "code",
      "source": [
        "# Perbaikan\n",
        "..."
      ],
      "metadata": {
        "colab": {
          "base_uri": "https://localhost:8080/"
        },
        "id": "P9ZqSTeRzUDi",
        "outputId": "4adb5534-c92c-47c7-cfed-56ee3b769cb8"
      },
      "execution_count": null,
      "outputs": [
        {
          "output_type": "stream",
          "name": "stdout",
          "text": [
            "Variabel retention_rate menyimpan nilai = 0.8912 dengan tipe data = <class 'float'>\n"
          ]
        }
      ]
    },
    {
      "cell_type": "markdown",
      "source": [
        "---"
      ],
      "metadata": {
        "id": "zg-B2JnPcCsF"
      }
    },
    {
      "cell_type": "markdown",
      "source": [
        "# 🛠 5. Konversi Tipe Data\n",
        "\n",
        "Tipe data pada sebuah variabel dapat diubah dari aslinya dengan syarat variabel yang akan di konversi tipe datanya sesuai. Untuk mengubah suatu variabel dengan tipe data tertentu menjadi tipe data yang diinginkan gunakan fungsi berikut :\n",
        "\n",
        "1. int('\\<nama_variabel\\>')   : untuk mengubah tipe data variabel menjadi integer / bil. bulat\n",
        "<br><i>docs : https://docs.python.org/3/library/functions.html#int</i></br>\n",
        "2. float('\\<nama_variabel\\>') : untuk mengubah tipe data variabel menjadi float / bil. real\n",
        "<br><i>docs : https://docs.python.org/3/library/functions.html#float</i></br>\n",
        "3. str('\\<nama_variabel\\>')   : untuk mengubah tipe data variabel menjadi string\n",
        "<br><i>docs : https://docs.python.org/3/library/functions.html#func-str</i></br>\n",
        "4. bool('\\<nama_variabel\\>')   : untuk mengubah tipe data variabel menjadi boolean\n",
        "<br><i>docs : https://docs.python.org/3/library/functions.html#bool</i></br>\n",
        "\n",
        "Namun, yang perlu diperhatikan adalah tidak semua variabel dengan tipe data tertentu dapat dengan mudah diubah tipe datanya.\n",
        "\n",
        "\n",
        "<br>\n",
        "\n",
        "**Contoh :**\n",
        "Sebuah perusahaan teknologi terkemuka, DQTech tahun ini telah membukukan revenue sebesar 40 Miliar rupiah. Pada python, buatlah sebuah variabel untuk menyimpan nilai tersebut (revenue DQTech) dan tampilkan nilainya beserta tipe datanya dengan menambahkan beberapa kalimat penjelas. Kemudian ubah tipe datanya menjadi float!\n",
        "\n",
        "**Jawab :** *Ketikan ini pada cell lalu eksekusi (run)*\n",
        "```\n",
        "# Buat variabel\n",
        "revenue_DQTech = 40000000000\n",
        "\n",
        "# Tampilkan hasilnya\n",
        "print(f'Pendapatan yang diperoleh DQTech adalah {revenue_DQTech} dengan tipe data {type(revenue_DQTech)}')\n",
        "\n",
        ">>> Output :      \n",
        ">>> Pendapatan yang diperoleh DQTech adalah 40000000000 dengan tipe data <class 'int'>\n",
        "```\n",
        "\n",
        "Proses Konversi tipe data\n",
        "```\n",
        "# Buat variabel\n",
        "revenue_DQTech = float(revenue_DQTech)\n",
        "\n",
        "# Tampilkan hasilnya\n",
        "print(f'Pendapatan yang diperoleh DQTech adalah {revenue_DQTech} dengan tipe data {type(revenue_DQTech)}')\n",
        "\n",
        ">>> Output :      \n",
        ">>> Pendapatan yang diperoleh DQTech adalah 40000000000.0 dengan tipe data <class 'float'>\n",
        "```"
      ],
      "metadata": {
        "id": "rsBF4ra9ZDSt"
      }
    },
    {
      "cell_type": "markdown",
      "source": [
        "### 👨‍💻 Task 5\n",
        "\n",
        "Lakukan eksperimen sesuka hatimu untuk melakukan konversi tipe data dari sebuah variabel, tampilkan hasilnya juga ya!"
      ],
      "metadata": {
        "id": "BZJDUFMyZz41"
      }
    },
    {
      "cell_type": "code",
      "source": [
        "# Write your code below here & exec!\n",
        "pi = '3.14'\n",
        "\n",
        "# Tampilkan hasilnya\n",
        "print(...)"
      ],
      "metadata": {
        "id": "jITwsxbUaQaF",
        "colab": {
          "base_uri": "https://localhost:8080/"
        },
        "outputId": "ea926bf4-2b00-49fa-88c7-17b86ea41dfa"
      },
      "execution_count": 5,
      "outputs": [
        {
          "output_type": "stream",
          "name": "stdout",
          "text": [
            "Nilai pi = 3.14 dengan tipe data <class 'str'>\n"
          ]
        }
      ]
    },
    {
      "cell_type": "code",
      "source": [
        "# Konversi tipe data & tampilkan hasilnya\n",
        "..."
      ],
      "metadata": {
        "colab": {
          "base_uri": "https://localhost:8080/"
        },
        "id": "UM2wNWdZq2cc",
        "outputId": "3038254e-070f-4816-ba4c-b9eaf2b5c412"
      },
      "execution_count": 6,
      "outputs": [
        {
          "output_type": "stream",
          "name": "stdout",
          "text": [
            "Nilai pi = 3.14 dengan tipe data <class 'float'>\n"
          ]
        }
      ]
    },
    {
      "cell_type": "markdown",
      "source": [
        "---"
      ],
      "metadata": {
        "id": "zmoxEscdcBcR"
      }
    },
    {
      "cell_type": "markdown",
      "source": [
        "# 🧮 6. Operasi Variabel\n",
        "\n",
        "Variabel dapat juga dilakukan proses operasi baik operasi perhitungan maupun operasi yang lain. Berikut merupakan operasi variabel yang valid atau dapat dilakukan pada bahasa pemrograman Python\n",
        "\n",
        "1. Operasi Aritmatika\n",
        "<br> Operasi aritmatika hanya berlaku pada satu atau lebih variabel dengan tipe data numerik seperti float, int maupun bilangan kompleks.</br>\n",
        "\n",
        "<p align=\"center\">\n",
        "<img src=\"http://lam-programming.weebly.com/uploads/2/3/3/2/23323570/screenshot-2018-12-11-11-57-08_orig.png\" width=\"500\" height=\"300\" alt=\"alternatetext\">\n",
        "<p align=\"center\"><b>Gambar 1. Operasi Pada Variabel</b></p></p><br>\n",
        "\n",
        "\n",
        "\n",
        "2. Operasi String\n",
        "<br>String hanya dapat dioperasikan dengan sesama string menggunakan operator ( + ) untuk menggabung (<i>concatenate</i>) satu string dengan yang lain atau dapat juga dioperasikan dengan integer menggunakan operator ( * ) untuk melipatgandakan string sebanyak bilangan integer yang diinisialisasikan</br>\n",
        "\n",
        "<p align=\"center\">\n",
        "<img src=\"https://files.transtutors.com/book/qimg/6bd88be4-d7be-4b4f-859e-2f95e9dc9962.png\" width=\"400\" height=\"500\" alt=\"alternatetext\">\n",
        "<p align=\"center\"><b>Gambar 2. Method pada String</b></p></p><br>\n",
        "\n",
        "\n"
      ],
      "metadata": {
        "id": "aicKbKT1bxBR"
      }
    },
    {
      "cell_type": "markdown",
      "source": [
        "### 👨‍💻 Task 6 - A\n",
        "\n",
        "Customer Satisfaction Score (CSAT) adalah metrik yang digunakan untuk mengukur tingkat kepuasan pelanggan terhadap produk atau layanan. Dirumuskan sebagai\n",
        "\n",
        "  \\begin{equation}\n",
        "  CSAT =  \\frac{Total\\ Respon\\ Positif}{Total\\ Respon}*100\n",
        "  \\end{equation}\n",
        "\n",
        "Dari 125 Responden, 13 diantaranya merespon negatif aplikasi terbaru yang di-deploy oleh DQtech karena ditemukan beberapa *bug*. Dengan bantuan Python, hitung berapa nilai metrik CSAT yang diperoleh oleh DQTech!"
      ],
      "metadata": {
        "id": "o6tQw79wcg6l"
      }
    },
    {
      "cell_type": "code",
      "source": [
        "# Fill the blank\n",
        "total_responden = ...\n",
        "respon_negatif = ...\n",
        "respon_positif = ...\n",
        "\n",
        "# Hitung CSAT\n",
        "CSAT = ...\n",
        "\n",
        "# Tampilkan CSAT\n",
        "print(...)"
      ],
      "metadata": {
        "id": "nKR9Spwae7C8",
        "colab": {
          "base_uri": "https://localhost:8080/"
        },
        "outputId": "35b73801-99c5-4470-cbdc-d66e51477834"
      },
      "execution_count": 7,
      "outputs": [
        {
          "output_type": "stream",
          "name": "stdout",
          "text": [
            "Customer Satisfaction Score = 89.6%\n"
          ]
        }
      ]
    },
    {
      "cell_type": "markdown",
      "source": [
        "### 👨‍💻 Task 6 - B\n",
        "\n",
        "Buatlah sebuah variabel yang menyimpan nilai '1nDon3s1A', perbaiki kata '1nDon3s1A' menjadi 'INDONESIA' lalu tampilkan hasilnya"
      ],
      "metadata": {
        "id": "U5zi-jkVqXVw"
      }
    },
    {
      "cell_type": "code",
      "source": [
        "negara = '1nDon3s1A'\n",
        "\n",
        "# Perbaiki disini\n",
        "print(negara)"
      ],
      "metadata": {
        "id": "j9ruNO39qr2S",
        "colab": {
          "base_uri": "https://localhost:8080/"
        },
        "outputId": "d6d4e30a-6259-44ab-cf63-22e5bf37c9e4"
      },
      "execution_count": null,
      "outputs": [
        {
          "output_type": "stream",
          "name": "stdout",
          "text": [
            "1nDon3s1A\n"
          ]
        }
      ]
    },
    {
      "cell_type": "code",
      "source": [
        "# Perbaikan 1 - Ubah menjadi uppercase semua\n",
        "negara = ...\n",
        "\n",
        "print(negara)"
      ],
      "metadata": {
        "colab": {
          "base_uri": "https://localhost:8080/"
        },
        "id": "rtbs5RbewfFp",
        "outputId": "0607811e-d92c-426c-ed9a-d514c2cac80d"
      },
      "execution_count": null,
      "outputs": [
        {
          "output_type": "stream",
          "name": "stdout",
          "text": [
            "1NDON3S1A\n"
          ]
        }
      ]
    },
    {
      "cell_type": "code",
      "source": [
        "# Perbaikan 2 - Ubah angka 1 menjadi I\n",
        "negara = ...\n",
        "\n",
        "print(negara)"
      ],
      "metadata": {
        "colab": {
          "base_uri": "https://localhost:8080/"
        },
        "id": "NZVubxcRwpXl",
        "outputId": "c16ae825-19f0-4ed8-ec18-71678e527d75"
      },
      "execution_count": null,
      "outputs": [
        {
          "output_type": "stream",
          "name": "stdout",
          "text": [
            "INDON3SIA\n"
          ]
        }
      ]
    },
    {
      "cell_type": "code",
      "source": [
        "# Perbaikan 2 - Ubah angka 3 menjadi E\n",
        "negara = ...\n",
        "\n",
        "print(negara)"
      ],
      "metadata": {
        "colab": {
          "base_uri": "https://localhost:8080/"
        },
        "id": "aYxRlG8EwvTW",
        "outputId": "95589964-263b-40e2-be6a-15f1ee2c347c"
      },
      "execution_count": null,
      "outputs": [
        {
          "output_type": "stream",
          "name": "stdout",
          "text": [
            "INDONESIA\n"
          ]
        }
      ]
    },
    {
      "cell_type": "code",
      "source": [],
      "metadata": {
        "id": "S2AKRzgGMLYC"
      },
      "execution_count": null,
      "outputs": []
    },
    {
      "cell_type": "markdown",
      "source": [
        "\n",
        "---"
      ],
      "metadata": {
        "id": "dR-6EfVYmBk6"
      }
    },
    {
      "cell_type": "markdown",
      "source": [
        "**Written By :** <br>\n",
        "<a href=\"https://linkedin.com/in/bachtiyarma\"><img alt=\"Linked In Link\" src=\"https://img.shields.io/badge/-Bachtiyar%20M.%20Arief-0072b1?style=for-the-badge&logo=None&logoColor=white\" align=\"left\"/></a>\n",
        "\n",
        "<br><br>**for :**\n",
        "\n",
        "<a href=\"https://dqlab.id/\"><img src=\"https://dqlab.id/files/dqlab/cache/87e30118ebba5ec7d96f6ea8c9dcc10b_x_118_X_55.png\" align=\"left\" /></a>"
      ],
      "metadata": {
        "id": "IZHHncdiIrH3"
      }
    }
  ]
}